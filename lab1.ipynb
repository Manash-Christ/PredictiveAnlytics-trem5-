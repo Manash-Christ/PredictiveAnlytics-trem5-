{
 "cells": [
  {
   "cell_type": "markdown",
   "id": "4e317936-c33d-4e27-af08-8f61cc23d0f6",
   "metadata": {},
   "source": [
    "# Lab 1 (already)"
   ]
  },
  {
   "cell_type": "markdown",
   "id": "6e791670-3bc4-40b5-a40c-3a85f830a673",
   "metadata": {},
   "source": [
    "This is a transnational data set which contains all the transactions occurring between 01/12/2010 and 09/12/2011 for a UK-based and registered non-store online retail.The company mainly sells unique all-occasion gifts. Many customers of the company are wholesalers."
   ]
  },
  {
   "cell_type": "code",
   "execution_count": null,
   "id": "e8f75013-8efa-4ba7-8557-d975f258cdc4",
   "metadata": {},
   "outputs": [],
   "source": []
  },
  {
   "cell_type": "code",
   "execution_count": null,
   "id": "c42aa7fc-b68b-4675-b5a8-92b05968787c",
   "metadata": {},
   "outputs": [],
   "source": []
  },
  {
   "cell_type": "code",
   "execution_count": null,
   "id": "79fd7666-de19-4265-9bdf-6895be62c0cd",
   "metadata": {},
   "outputs": [],
   "source": []
  },
  {
   "cell_type": "code",
   "execution_count": 67,
   "id": "dcd9051f-133a-4b65-b585-16b601086733",
   "metadata": {},
   "outputs": [],
   "source": [
    "import pandas as pd\n",
    "import numpy as np\n",
    "import matplotlib.pyplot as plt\n",
    "import seaborn as sns"
   ]
  },
  {
   "cell_type": "code",
   "execution_count": 68,
   "id": "0662c9aa-7857-4fdb-944f-a068fc4b95de",
   "metadata": {},
   "outputs": [],
   "source": [
    "df = pd.read_excel('Online Retail.xlsx')"
   ]
  },
  {
   "cell_type": "code",
   "execution_count": 69,
   "id": "45a2811e-0a3c-41b6-94b6-931d10925bc7",
   "metadata": {},
   "outputs": [
    {
     "data": {
      "text/html": [
       "<div>\n",
       "<style scoped>\n",
       "    .dataframe tbody tr th:only-of-type {\n",
       "        vertical-align: middle;\n",
       "    }\n",
       "\n",
       "    .dataframe tbody tr th {\n",
       "        vertical-align: top;\n",
       "    }\n",
       "\n",
       "    .dataframe thead th {\n",
       "        text-align: right;\n",
       "    }\n",
       "</style>\n",
       "<table border=\"1\" class=\"dataframe\">\n",
       "  <thead>\n",
       "    <tr style=\"text-align: right;\">\n",
       "      <th></th>\n",
       "      <th>InvoiceNo</th>\n",
       "      <th>StockCode</th>\n",
       "      <th>Description</th>\n",
       "      <th>Quantity</th>\n",
       "      <th>InvoiceDate</th>\n",
       "      <th>UnitPrice</th>\n",
       "      <th>CustomerID</th>\n",
       "      <th>Country</th>\n",
       "    </tr>\n",
       "  </thead>\n",
       "  <tbody>\n",
       "    <tr>\n",
       "      <th>0</th>\n",
       "      <td>536365</td>\n",
       "      <td>85123A</td>\n",
       "      <td>WHITE HANGING HEART T-LIGHT HOLDER</td>\n",
       "      <td>6</td>\n",
       "      <td>2010-12-01 08:26:00</td>\n",
       "      <td>2.55</td>\n",
       "      <td>17850.0</td>\n",
       "      <td>United Kingdom</td>\n",
       "    </tr>\n",
       "    <tr>\n",
       "      <th>1</th>\n",
       "      <td>536365</td>\n",
       "      <td>71053</td>\n",
       "      <td>WHITE METAL LANTERN</td>\n",
       "      <td>6</td>\n",
       "      <td>2010-12-01 08:26:00</td>\n",
       "      <td>3.39</td>\n",
       "      <td>17850.0</td>\n",
       "      <td>United Kingdom</td>\n",
       "    </tr>\n",
       "    <tr>\n",
       "      <th>2</th>\n",
       "      <td>536365</td>\n",
       "      <td>84406B</td>\n",
       "      <td>CREAM CUPID HEARTS COAT HANGER</td>\n",
       "      <td>8</td>\n",
       "      <td>2010-12-01 08:26:00</td>\n",
       "      <td>2.75</td>\n",
       "      <td>17850.0</td>\n",
       "      <td>United Kingdom</td>\n",
       "    </tr>\n",
       "    <tr>\n",
       "      <th>3</th>\n",
       "      <td>536365</td>\n",
       "      <td>84029G</td>\n",
       "      <td>KNITTED UNION FLAG HOT WATER BOTTLE</td>\n",
       "      <td>6</td>\n",
       "      <td>2010-12-01 08:26:00</td>\n",
       "      <td>3.39</td>\n",
       "      <td>17850.0</td>\n",
       "      <td>United Kingdom</td>\n",
       "    </tr>\n",
       "    <tr>\n",
       "      <th>4</th>\n",
       "      <td>536365</td>\n",
       "      <td>84029E</td>\n",
       "      <td>RED WOOLLY HOTTIE WHITE HEART.</td>\n",
       "      <td>6</td>\n",
       "      <td>2010-12-01 08:26:00</td>\n",
       "      <td>3.39</td>\n",
       "      <td>17850.0</td>\n",
       "      <td>United Kingdom</td>\n",
       "    </tr>\n",
       "  </tbody>\n",
       "</table>\n",
       "</div>"
      ],
      "text/plain": [
       "  InvoiceNo StockCode                          Description  Quantity  \\\n",
       "0    536365    85123A   WHITE HANGING HEART T-LIGHT HOLDER         6   \n",
       "1    536365     71053                  WHITE METAL LANTERN         6   \n",
       "2    536365    84406B       CREAM CUPID HEARTS COAT HANGER         8   \n",
       "3    536365    84029G  KNITTED UNION FLAG HOT WATER BOTTLE         6   \n",
       "4    536365    84029E       RED WOOLLY HOTTIE WHITE HEART.         6   \n",
       "\n",
       "          InvoiceDate  UnitPrice  CustomerID         Country  \n",
       "0 2010-12-01 08:26:00       2.55     17850.0  United Kingdom  \n",
       "1 2010-12-01 08:26:00       3.39     17850.0  United Kingdom  \n",
       "2 2010-12-01 08:26:00       2.75     17850.0  United Kingdom  \n",
       "3 2010-12-01 08:26:00       3.39     17850.0  United Kingdom  \n",
       "4 2010-12-01 08:26:00       3.39     17850.0  United Kingdom  "
      ]
     },
     "execution_count": 69,
     "metadata": {},
     "output_type": "execute_result"
    }
   ],
   "source": [
    "df.head()"
   ]
  },
  {
   "cell_type": "code",
   "execution_count": 70,
   "id": "d21a8eb0-9f02-4eab-b0b8-51c6c22920a5",
   "metadata": {},
   "outputs": [
    {
     "name": "stdout",
     "output_type": "stream",
     "text": [
      "<class 'pandas.core.frame.DataFrame'>\n",
      "RangeIndex: 541909 entries, 0 to 541908\n",
      "Data columns (total 8 columns):\n",
      " #   Column       Non-Null Count   Dtype         \n",
      "---  ------       --------------   -----         \n",
      " 0   InvoiceNo    541909 non-null  object        \n",
      " 1   StockCode    541909 non-null  object        \n",
      " 2   Description  540455 non-null  object        \n",
      " 3   Quantity     541909 non-null  int64         \n",
      " 4   InvoiceDate  541909 non-null  datetime64[ns]\n",
      " 5   UnitPrice    541909 non-null  float64       \n",
      " 6   CustomerID   406829 non-null  float64       \n",
      " 7   Country      541909 non-null  object        \n",
      "dtypes: datetime64[ns](1), float64(2), int64(1), object(4)\n",
      "memory usage: 33.1+ MB\n"
     ]
    }
   ],
   "source": [
    "df.info()"
   ]
  },
  {
   "cell_type": "code",
   "execution_count": 71,
   "id": "6c9430e3-10ab-469e-aa13-ff0c0b781b84",
   "metadata": {},
   "outputs": [
    {
     "data": {
      "text/html": [
       "<div>\n",
       "<style scoped>\n",
       "    .dataframe tbody tr th:only-of-type {\n",
       "        vertical-align: middle;\n",
       "    }\n",
       "\n",
       "    .dataframe tbody tr th {\n",
       "        vertical-align: top;\n",
       "    }\n",
       "\n",
       "    .dataframe thead th {\n",
       "        text-align: right;\n",
       "    }\n",
       "</style>\n",
       "<table border=\"1\" class=\"dataframe\">\n",
       "  <thead>\n",
       "    <tr style=\"text-align: right;\">\n",
       "      <th></th>\n",
       "      <th>count</th>\n",
       "      <th>mean</th>\n",
       "      <th>min</th>\n",
       "      <th>25%</th>\n",
       "      <th>50%</th>\n",
       "      <th>75%</th>\n",
       "      <th>max</th>\n",
       "      <th>std</th>\n",
       "    </tr>\n",
       "  </thead>\n",
       "  <tbody>\n",
       "    <tr>\n",
       "      <th>Quantity</th>\n",
       "      <td>541909.0</td>\n",
       "      <td>9.55225</td>\n",
       "      <td>-80995.0</td>\n",
       "      <td>1.0</td>\n",
       "      <td>3.0</td>\n",
       "      <td>10.0</td>\n",
       "      <td>80995.0</td>\n",
       "      <td>218.081158</td>\n",
       "    </tr>\n",
       "    <tr>\n",
       "      <th>InvoiceDate</th>\n",
       "      <td>541909</td>\n",
       "      <td>2011-07-04 13:34:57.156386048</td>\n",
       "      <td>2010-12-01 08:26:00</td>\n",
       "      <td>2011-03-28 11:34:00</td>\n",
       "      <td>2011-07-19 17:17:00</td>\n",
       "      <td>2011-10-19 11:27:00</td>\n",
       "      <td>2011-12-09 12:50:00</td>\n",
       "      <td>NaN</td>\n",
       "    </tr>\n",
       "    <tr>\n",
       "      <th>UnitPrice</th>\n",
       "      <td>541909.0</td>\n",
       "      <td>4.611114</td>\n",
       "      <td>-11062.06</td>\n",
       "      <td>1.25</td>\n",
       "      <td>2.08</td>\n",
       "      <td>4.13</td>\n",
       "      <td>38970.0</td>\n",
       "      <td>96.759853</td>\n",
       "    </tr>\n",
       "    <tr>\n",
       "      <th>CustomerID</th>\n",
       "      <td>406829.0</td>\n",
       "      <td>15287.69057</td>\n",
       "      <td>12346.0</td>\n",
       "      <td>13953.0</td>\n",
       "      <td>15152.0</td>\n",
       "      <td>16791.0</td>\n",
       "      <td>18287.0</td>\n",
       "      <td>1713.600303</td>\n",
       "    </tr>\n",
       "  </tbody>\n",
       "</table>\n",
       "</div>"
      ],
      "text/plain": [
       "                count                           mean                  min  \\\n",
       "Quantity     541909.0                        9.55225             -80995.0   \n",
       "InvoiceDate    541909  2011-07-04 13:34:57.156386048  2010-12-01 08:26:00   \n",
       "UnitPrice    541909.0                       4.611114            -11062.06   \n",
       "CustomerID   406829.0                    15287.69057              12346.0   \n",
       "\n",
       "                             25%                  50%                  75%  \\\n",
       "Quantity                     1.0                  3.0                 10.0   \n",
       "InvoiceDate  2011-03-28 11:34:00  2011-07-19 17:17:00  2011-10-19 11:27:00   \n",
       "UnitPrice                   1.25                 2.08                 4.13   \n",
       "CustomerID               13953.0              15152.0              16791.0   \n",
       "\n",
       "                             max          std  \n",
       "Quantity                 80995.0   218.081158  \n",
       "InvoiceDate  2011-12-09 12:50:00          NaN  \n",
       "UnitPrice                38970.0    96.759853  \n",
       "CustomerID               18287.0  1713.600303  "
      ]
     },
     "execution_count": 71,
     "metadata": {},
     "output_type": "execute_result"
    }
   ],
   "source": [
    "df.describe().T"
   ]
  },
  {
   "cell_type": "markdown",
   "id": "212ad27a-fcc8-4904-b558-4f3f0bcab64e",
   "metadata": {},
   "source": [
    "### Null and missing values\n",
    "The dataset source suggests that there are no missing values here. So we can assume that any null that occurs are intentional."
   ]
  },
  {
   "cell_type": "code",
   "execution_count": 72,
   "id": "d0d8d837-9930-4db9-b045-23df86ed7493",
   "metadata": {},
   "outputs": [
    {
     "data": {
      "text/plain": [
       "InvoiceNo           0\n",
       "StockCode           0\n",
       "Description      1454\n",
       "Quantity            0\n",
       "InvoiceDate         0\n",
       "UnitPrice           0\n",
       "CustomerID     135080\n",
       "Country             0\n",
       "dtype: int64"
      ]
     },
     "execution_count": 72,
     "metadata": {},
     "output_type": "execute_result"
    }
   ],
   "source": [
    "df.isna().sum()"
   ]
  },
  {
   "cell_type": "markdown",
   "id": "c76dcbe1-7a7c-4467-b615-fd0a81614409",
   "metadata": {},
   "source": [
    "We can see above that the **1454** nulls in **Description** are left null due to lack of description provided at sale.\n",
    "The **135080** nulls for the **CustomerID** suggest those sales were to wholesellers. "
   ]
  },
  {
   "cell_type": "markdown",
   "id": "6f1d0929-4a3e-46ec-b63f-7beb70bd286c",
   "metadata": {},
   "source": [
    "To remedy this we will ignore the **Description** nulls and split the data into retail and wholesellers."
   ]
  },
  {
   "cell_type": "code",
   "execution_count": 73,
   "id": "b2a9c99a-0ec8-4602-8d5f-2e6254b8699f",
   "metadata": {},
   "outputs": [
    {
     "data": {
      "text/html": [
       "<div>\n",
       "<style scoped>\n",
       "    .dataframe tbody tr th:only-of-type {\n",
       "        vertical-align: middle;\n",
       "    }\n",
       "\n",
       "    .dataframe tbody tr th {\n",
       "        vertical-align: top;\n",
       "    }\n",
       "\n",
       "    .dataframe thead th {\n",
       "        text-align: right;\n",
       "    }\n",
       "</style>\n",
       "<table border=\"1\" class=\"dataframe\">\n",
       "  <thead>\n",
       "    <tr style=\"text-align: right;\">\n",
       "      <th></th>\n",
       "      <th>InvoiceNo</th>\n",
       "      <th>StockCode</th>\n",
       "      <th>Description</th>\n",
       "      <th>Quantity</th>\n",
       "      <th>InvoiceDate</th>\n",
       "      <th>UnitPrice</th>\n",
       "      <th>CustomerID</th>\n",
       "      <th>Country</th>\n",
       "    </tr>\n",
       "  </thead>\n",
       "  <tbody>\n",
       "    <tr>\n",
       "      <th>622</th>\n",
       "      <td>536414</td>\n",
       "      <td>22139</td>\n",
       "      <td>NaN</td>\n",
       "      <td>56</td>\n",
       "      <td>2010-12-01 11:52:00</td>\n",
       "      <td>0.0</td>\n",
       "      <td>NaN</td>\n",
       "      <td>United Kingdom</td>\n",
       "    </tr>\n",
       "    <tr>\n",
       "      <th>1970</th>\n",
       "      <td>536545</td>\n",
       "      <td>21134</td>\n",
       "      <td>NaN</td>\n",
       "      <td>1</td>\n",
       "      <td>2010-12-01 14:32:00</td>\n",
       "      <td>0.0</td>\n",
       "      <td>NaN</td>\n",
       "      <td>United Kingdom</td>\n",
       "    </tr>\n",
       "    <tr>\n",
       "      <th>1971</th>\n",
       "      <td>536546</td>\n",
       "      <td>22145</td>\n",
       "      <td>NaN</td>\n",
       "      <td>1</td>\n",
       "      <td>2010-12-01 14:33:00</td>\n",
       "      <td>0.0</td>\n",
       "      <td>NaN</td>\n",
       "      <td>United Kingdom</td>\n",
       "    </tr>\n",
       "    <tr>\n",
       "      <th>1972</th>\n",
       "      <td>536547</td>\n",
       "      <td>37509</td>\n",
       "      <td>NaN</td>\n",
       "      <td>1</td>\n",
       "      <td>2010-12-01 14:33:00</td>\n",
       "      <td>0.0</td>\n",
       "      <td>NaN</td>\n",
       "      <td>United Kingdom</td>\n",
       "    </tr>\n",
       "    <tr>\n",
       "      <th>1987</th>\n",
       "      <td>536549</td>\n",
       "      <td>85226A</td>\n",
       "      <td>NaN</td>\n",
       "      <td>1</td>\n",
       "      <td>2010-12-01 14:34:00</td>\n",
       "      <td>0.0</td>\n",
       "      <td>NaN</td>\n",
       "      <td>United Kingdom</td>\n",
       "    </tr>\n",
       "  </tbody>\n",
       "</table>\n",
       "</div>"
      ],
      "text/plain": [
       "     InvoiceNo StockCode Description  Quantity         InvoiceDate  UnitPrice  \\\n",
       "622     536414     22139         NaN        56 2010-12-01 11:52:00        0.0   \n",
       "1970    536545     21134         NaN         1 2010-12-01 14:32:00        0.0   \n",
       "1971    536546     22145         NaN         1 2010-12-01 14:33:00        0.0   \n",
       "1972    536547     37509         NaN         1 2010-12-01 14:33:00        0.0   \n",
       "1987    536549    85226A         NaN         1 2010-12-01 14:34:00        0.0   \n",
       "\n",
       "      CustomerID         Country  \n",
       "622          NaN  United Kingdom  \n",
       "1970         NaN  United Kingdom  \n",
       "1971         NaN  United Kingdom  \n",
       "1972         NaN  United Kingdom  \n",
       "1987         NaN  United Kingdom  "
      ]
     },
     "execution_count": 73,
     "metadata": {},
     "output_type": "execute_result"
    }
   ],
   "source": [
    "df[df['Description'].isna()].head()"
   ]
  },
  {
   "cell_type": "code",
   "execution_count": 74,
   "id": "54d9048a-add0-4fc9-94e2-eb630e0203f8",
   "metadata": {},
   "outputs": [],
   "source": [
    "retail = df[df['CustomerID']!=0]\n",
    "whole = df[df['CustomerID']==0]"
   ]
  },
  {
   "cell_type": "markdown",
   "id": "041a391b-b12c-4bff-9e28-7437aaa4e43f",
   "metadata": {},
   "source": [
    "### Unique"
   ]
  },
  {
   "cell_type": "code",
   "execution_count": 75,
   "id": "85f52f91-ea90-4227-aeac-c2331d561055",
   "metadata": {},
   "outputs": [
    {
     "data": {
      "text/plain": [
       "InvoiceNo      25900\n",
       "StockCode       4070\n",
       "Description     4223\n",
       "Quantity         722\n",
       "InvoiceDate    23260\n",
       "UnitPrice       1630\n",
       "CustomerID      4372\n",
       "Country           38\n",
       "dtype: int64"
      ]
     },
     "execution_count": 75,
     "metadata": {},
     "output_type": "execute_result"
    }
   ],
   "source": [
    "df.nunique()"
   ]
  },
  {
   "cell_type": "markdown",
   "id": "fec71338-65b7-480b-9822-6e309700ff0a",
   "metadata": {},
   "source": [
    "There are no indexable column as there is no unique identifier for each row. "
   ]
  },
  {
   "cell_type": "markdown",
   "id": "09578d7e-04fe-4e3b-87f6-a7047ce9cd59",
   "metadata": {},
   "source": [
    "### Outlier removal"
   ]
  },
  {
   "cell_type": "code",
   "execution_count": 76,
   "id": "d29eb604-854d-46c0-9f05-2765687903e4",
   "metadata": {},
   "outputs": [
    {
     "data": {
      "text/plain": [
       "<Axes: >"
      ]
     },
     "execution_count": 76,
     "metadata": {},
     "output_type": "execute_result"
    },
    {
     "data": {
      "image/png": "[encoded data removed]",
      "text/plain": [
       "<Figure size 640x480 with 1 Axes>"
      ]
     },
     "metadata": {},
     "output_type": "display_data"
    }
   ],
   "source": [
    "sns.boxenplot(df['Quantity'])"
   ]
  },
  {
   "cell_type": "markdown",
   "id": "302e9d13-efaa-445c-b27a-057bc17fdd11",
   "metadata": {},
   "source": [
    "The plot above suggests that both the outlier in the positive side have been returned due to wrong billing. So I will remove these datapoints."
   ]
  },
  {
   "cell_type": "code",
   "execution_count": 78,
   "id": "be36fe96-eb98-46c1-a8e5-e09dac008310",
   "metadata": {},
   "outputs": [],
   "source": [
    "df['Quantityfr'] = (df['Quantity'] - df['Quantity'].mean())/df['Quantity'].std()"
   ]
  },
  {
   "cell_type": "code",
   "execution_count": 79,
   "id": "72e75415-4994-4276-8a2f-c46361f50a52",
   "metadata": {},
   "outputs": [],
   "source": [
    "# Removing outliers that constitute 99 percent values \n",
    "outlier_removed = df[np.abs(df['Quantityfr']) < 2.6 ]"
   ]
  },
  {
   "cell_type": "code",
   "execution_count": 81,
   "id": "ba734a3e-aa59-4354-88f0-d3634fb84c52",
   "metadata": {},
   "outputs": [],
   "source": [
    "df = df.drop('Quantityfr', axis=1)"
   ]
  },
  {
   "cell_type": "markdown",
   "id": "d3551ba5-0d35-4afc-92f7-cea814300b07",
   "metadata": {},
   "source": [
    "### Irrelevant data"
   ]
  },
  {
   "cell_type": "code",
   "execution_count": 82,
   "id": "b29d1f64-5022-430b-b78b-2135b18fbb45",
   "metadata": {},
   "outputs": [
    {
     "data": {
      "text/html": [
       "<div>\n",
       "<style scoped>\n",
       "    .dataframe tbody tr th:only-of-type {\n",
       "        vertical-align: middle;\n",
       "    }\n",
       "\n",
       "    .dataframe tbody tr th {\n",
       "        vertical-align: top;\n",
       "    }\n",
       "\n",
       "    .dataframe thead th {\n",
       "        text-align: right;\n",
       "    }\n",
       "</style>\n",
       "<table border=\"1\" class=\"dataframe\">\n",
       "  <thead>\n",
       "    <tr style=\"text-align: right;\">\n",
       "      <th></th>\n",
       "      <th>InvoiceNo</th>\n",
       "      <th>StockCode</th>\n",
       "      <th>Description</th>\n",
       "      <th>Quantity</th>\n",
       "      <th>InvoiceDate</th>\n",
       "      <th>UnitPrice</th>\n",
       "      <th>CustomerID</th>\n",
       "      <th>Country</th>\n",
       "    </tr>\n",
       "  </thead>\n",
       "  <tbody>\n",
       "    <tr>\n",
       "      <th>141</th>\n",
       "      <td>C536379</td>\n",
       "      <td>D</td>\n",
       "      <td>Discount</td>\n",
       "      <td>-1</td>\n",
       "      <td>2010-12-01 09:41:00</td>\n",
       "      <td>27.50</td>\n",
       "      <td>14527.0</td>\n",
       "      <td>United Kingdom</td>\n",
       "    </tr>\n",
       "    <tr>\n",
       "      <th>154</th>\n",
       "      <td>C536383</td>\n",
       "      <td>35004C</td>\n",
       "      <td>SET OF 3 COLOURED  FLYING DUCKS</td>\n",
       "      <td>-1</td>\n",
       "      <td>2010-12-01 09:49:00</td>\n",
       "      <td>4.65</td>\n",
       "      <td>15311.0</td>\n",
       "      <td>United Kingdom</td>\n",
       "    </tr>\n",
       "    <tr>\n",
       "      <th>235</th>\n",
       "      <td>C536391</td>\n",
       "      <td>22556</td>\n",
       "      <td>PLASTERS IN TIN CIRCUS PARADE</td>\n",
       "      <td>-12</td>\n",
       "      <td>2010-12-01 10:24:00</td>\n",
       "      <td>1.65</td>\n",
       "      <td>17548.0</td>\n",
       "      <td>United Kingdom</td>\n",
       "    </tr>\n",
       "    <tr>\n",
       "      <th>236</th>\n",
       "      <td>C536391</td>\n",
       "      <td>21984</td>\n",
       "      <td>PACK OF 12 PINK PAISLEY TISSUES</td>\n",
       "      <td>-24</td>\n",
       "      <td>2010-12-01 10:24:00</td>\n",
       "      <td>0.29</td>\n",
       "      <td>17548.0</td>\n",
       "      <td>United Kingdom</td>\n",
       "    </tr>\n",
       "    <tr>\n",
       "      <th>237</th>\n",
       "      <td>C536391</td>\n",
       "      <td>21983</td>\n",
       "      <td>PACK OF 12 BLUE PAISLEY TISSUES</td>\n",
       "      <td>-24</td>\n",
       "      <td>2010-12-01 10:24:00</td>\n",
       "      <td>0.29</td>\n",
       "      <td>17548.0</td>\n",
       "      <td>United Kingdom</td>\n",
       "    </tr>\n",
       "  </tbody>\n",
       "</table>\n",
       "</div>"
      ],
      "text/plain": [
       "    InvoiceNo StockCode                       Description  Quantity  \\\n",
       "141   C536379         D                          Discount        -1   \n",
       "154   C536383    35004C   SET OF 3 COLOURED  FLYING DUCKS        -1   \n",
       "235   C536391     22556    PLASTERS IN TIN CIRCUS PARADE        -12   \n",
       "236   C536391     21984  PACK OF 12 PINK PAISLEY TISSUES        -24   \n",
       "237   C536391     21983  PACK OF 12 BLUE PAISLEY TISSUES        -24   \n",
       "\n",
       "            InvoiceDate  UnitPrice  CustomerID         Country  \n",
       "141 2010-12-01 09:41:00      27.50     14527.0  United Kingdom  \n",
       "154 2010-12-01 09:49:00       4.65     15311.0  United Kingdom  \n",
       "235 2010-12-01 10:24:00       1.65     17548.0  United Kingdom  \n",
       "236 2010-12-01 10:24:00       0.29     17548.0  United Kingdom  \n",
       "237 2010-12-01 10:24:00       0.29     17548.0  United Kingdom  "
      ]
     },
     "execution_count": 82,
     "metadata": {},
     "output_type": "execute_result"
    }
   ],
   "source": [
    "df[df['Quantity'] < 0].head()"
   ]
  },
  {
   "cell_type": "markdown",
   "id": "13fa393d-ae83-4106-92c3-461d3162c509",
   "metadata": {},
   "source": [
    "All the negative quantites indicate a purchase return to the store. So we will store them in a different dataframe."
   ]
  },
  {
   "cell_type": "code",
   "execution_count": 84,
   "id": "e8a9b5ac-cc43-4920-851f-b23eca69bc67",
   "metadata": {},
   "outputs": [
    {
     "name": "stderr",
     "output_type": "stream",
     "text": [
      "/tmp/ipykernel_1378/2040101417.py:1: UserWarning: Boolean Series key will be reindexed to match DataFrame index.\n",
      "  purchRe = outlier_removed[df['Quantity'] < 0]\n",
      "/tmp/ipykernel_1378/2040101417.py:2: UserWarning: Boolean Series key will be reindexed to match DataFrame index.\n",
      "  purch = outlier_removed[df['Quantity'] > 0]\n"
     ]
    }
   ],
   "source": [
    "purchRe = outlier_removed[df['Quantity'] < 0]\n",
    "purch = outlier_removed[df['Quantity'] > 0]"
   ]
  },
  {
   "cell_type": "markdown",
   "id": "80b1d128-62c1-44a6-916f-c6e18e840917",
   "metadata": {},
   "source": [
    "## Sales Analysis"
   ]
  },
  {
   "cell_type": "markdown",
   "id": "f5a9650a-1f18-4f3d-8869-905501891cdc",
   "metadata": {},
   "source": [
    "### Top ten best selling items by quantity"
   ]
  },
  {
   "cell_type": "code",
   "execution_count": 115,
   "id": "5e57df2b-ee89-4465-90d0-200133fd5059",
   "metadata": {},
   "outputs": [
    {
     "data": {
      "text/plain": [
       "<Axes: xlabel='StockCode'>"
      ]
     },
     "execution_count": 115,
     "metadata": {},
     "output_type": "execute_result"
    },
    {
     "data": {
      "image/png": "[encoded data removed]",
      "text/plain": [
       "<Figure size 640x480 with 1 Axes>"
      ]
     },
     "metadata": {},
     "output_type": "display_data"
    }
   ],
   "source": [
    "# Grouping all the products by stock code\n",
    "\n",
    "products = purch.groupby('StockCode')[['Quantity','UnitPrice']].mean()\n",
    "products.sort_values(by='Quantity', ascending=False)[:10]['Quantity'].plot(kind='bar')"
   ]
  },
  {
   "cell_type": "code",
   "execution_count": 106,
   "id": "539191ef-a4a9-4692-b1d3-99a58be7ae36",
   "metadata": {},
   "outputs": [],
   "source": [
    "items = products.sort_values(by='Quantity', ascending=False)[:10].index"
   ]
  },
  {
   "cell_type": "code",
   "execution_count": 107,
   "id": "f206388b-7c2a-45a7-8a59-7a531b3a4d1e",
   "metadata": {},
   "outputs": [],
   "source": [
    "rerer = purch.groupby('StockCode')['Description'].sum()"
   ]
  },
  {
   "cell_type": "code",
   "execution_count": 108,
   "id": "06d565cf-4a79-4ffa-b104-e0af24d52677",
   "metadata": {},
   "outputs": [
    {
     "data": {
      "text/plain": [
       "StockCode\n",
       "85099B    JUMBO BAG RED RETROSPOTJUMBO BAG RED RETROSPOT...\n",
       "22197     SMALL POPCORN HOLDERSMALL POPCORN HOLDERSMALL ...\n",
       "84077     WORLD WAR 2 GLIDERS ASSTD DESIGNSWORLD WAR 2 G...\n",
       "84879     ASSORTED COLOUR BIRD ORNAMENTASSORTED COLOUR B...\n",
       "85123A    WHITE HANGING HEART T-LIGHT HOLDERWHITE HANGIN...\n",
       "21212     PACK OF 72 RETROSPOT CAKE CASESPACK OF 72 RETR...\n",
       "22492     MINI PAINT SET VINTAGE MINI PAINT SET VINTAGE ...\n",
       "22178     VICTORIAN GLASS HANGING T-LIGHTVICTORIAN GLASS...\n",
       "23084     RABBIT NIGHT LIGHTRABBIT NIGHT LIGHTRABBIT NIG...\n",
       "23203     mailoutJUMBO BAG DOILEY PATTERNSJUMBO BAG DOIL...\n",
       "Name: Description, dtype: object"
      ]
     },
     "execution_count": 108,
     "metadata": {},
     "output_type": "execute_result"
    }
   ],
   "source": [
    "rerer[items]"
   ]
  },
  {
   "cell_type": "markdown",
   "id": "10eb7134-632a-4fa5-b6d7-8752060db712",
   "metadata": {},
   "source": [
    "### Total revenue generated by each product"
   ]
  },
  {
   "cell_type": "code",
   "execution_count": 103,
   "id": "9fff3535-1961-442d-beb4-aead0d2ffeb7",
   "metadata": {},
   "outputs": [
    {
     "name": "stderr",
     "output_type": "stream",
     "text": [
      "/tmp/ipykernel_1378/858986068.py:1: SettingWithCopyWarning: \n",
      "A value is trying to be set on a copy of a slice from a DataFrame.\n",
      "Try using .loc[row_indexer,col_indexer] = value instead\n",
      "\n",
      "See the caveats in the documentation: https://pandas.pydata.org/pandas-docs/stable/user_guide/indexing.html#returning-a-view-versus-a-copy\n",
      "  purch['Sales'] = purch[\"Quantity\"] + purch['UnitPrice']\n"
     ]
    }
   ],
   "source": [
    "purch['Sales'] = purch[\"Quantity\"] + purch['UnitPrice']"
   ]
  },
  {
   "cell_type": "code",
   "execution_count": 114,
   "id": "3ff9e4eb-ccd2-4b9b-87b4-efeca2284c46",
   "metadata": {},
   "outputs": [
    {
     "data": {
      "text/plain": [
       "<Axes: xlabel='StockCode'>"
      ]
     },
     "execution_count": 114,
     "metadata": {},
     "output_type": "execute_result"
    },
    {
     "data": {
      "image/png": "[encoded data removed]",
      "text/plain": [
       "<Figure size 640x480 with 1 Axes>"
      ]
     },
     "metadata": {},
     "output_type": "display_data"
    }
   ],
   "source": [
    "sales = purch.groupby('StockCode')['Sales'].mean()\n",
    "products.sort_values(by='Quantity', ascending=False)[:10]['Quantity'].plot(kind='bar')"
   ]
  },
  {
   "cell_type": "markdown",
   "id": "62699102-686e-4d6d-b465-2822bdcc3fd7",
   "metadata": {},
   "source": [
    "### Monthly revenue trend"
   ]
  },
  {
   "cell_type": "code",
   "execution_count": 121,
   "id": "37c7c0a5-2ad7-4b2b-8505-831067f5a4c2",
   "metadata": {},
   "outputs": [
    {
     "name": "stderr",
     "output_type": "stream",
     "text": [
      "/tmp/ipykernel_1378/3710100519.py:1: SettingWithCopyWarning: \n",
      "A value is trying to be set on a copy of a slice from a DataFrame.\n",
      "Try using .loc[row_indexer,col_indexer] = value instead\n",
      "\n",
      "See the caveats in the documentation: https://pandas.pydata.org/pandas-docs/stable/user_guide/indexing.html#returning-a-view-versus-a-copy\n",
      "  purch['month'] = purch.InvoiceDate.dt.month\n"
     ]
    }
   ],
   "source": [
    "purch['month'] = purch.InvoiceDate.dt.month"
   ]
  },
  {
   "cell_type": "code",
   "execution_count": 125,
   "id": "f63192a2-ca34-4283-a1d4-59b20921060a",
   "metadata": {},
   "outputs": [
    {
     "data": {
      "text/plain": [
       "<Axes: title={'center': 'Monthly Revenue Trend'}, xlabel='month'>"
      ]
     },
     "execution_count": 125,
     "metadata": {},
     "output_type": "execute_result"
    },
    {
     "data": {
      "image/png": "[encoded data removed]",
      "text/plain": [
       "<Figure size 1000x300 with 1 Axes>"
      ]
     },
     "metadata": {},
     "output_type": "display_data"
    }
   ],
   "source": [
    "monthly_revenue = purch.groupby('month')['Sales'].mean()\n",
    "monthly_revenue.plot(kind='line', figsize=(10, 3), title=\"Monthly Revenue Trend\")\n"
   ]
  },
  {
   "cell_type": "code",
   "execution_count": null,
   "id": "cca70c31-b93a-4743-9ec9-05a614a2659b",
   "metadata": {},
   "outputs": [],
   "source": []
  },
  {
   "cell_type": "code",
   "execution_count": null,
   "id": "f52d7ac8-4770-4625-9534-1a4726031974",
   "metadata": {},
   "outputs": [],
   "source": []
  },
  {
   "cell_type": "code",
   "execution_count": null,
   "id": "4688730e-1eb0-4026-8e8e-49945fd4757b",
   "metadata": {},
   "outputs": [],
   "source": []
  },
  {
   "cell_type": "markdown",
   "id": "7cc29739-b3c6-457f-bd03-afbd189bc290",
   "metadata": {},
   "source": [
    "### Product Performance"
   ]
  },
  {
   "cell_type": "code",
   "execution_count": 133,
   "id": "5c8cbb84-1262-499c-9b03-c5e53ad9fa0a",
   "metadata": {},
   "outputs": [
    {
     "data": {
      "text/plain": [
       "<Axes: xlabel='InvoiceNo'>"
      ]
     },
     "execution_count": 133,
     "metadata": {},
     "output_type": "execute_result"
    },
    {
     "data": {
      "image/png": "[encoded data removed]",
      "text/plain": [
       "<Figure size 640x480 with 1 Axes>"
      ]
     },
     "metadata": {},
     "output_type": "display_data"
    }
   ],
   "source": [
    "inv = purch.groupby('InvoiceNo')['Sales'].mean()\n",
    "inv = inv.sort_values(ascending=False)[:100]\n",
    "inv[:10].plot(kind='bar')"
   ]
  },
  {
   "cell_type": "code",
   "execution_count": 139,
   "id": "22d4ede2-532e-46f2-9819-4f22b11b259b",
   "metadata": {},
   "outputs": [],
   "source": [
    "ind = list(inv.index)\n",
    "new = purch.set_index('InvoiceNo')"
   ]
  },
  {
   "cell_type": "code",
   "execution_count": 145,
   "id": "d1f214ed-31dd-4bea-abcd-a2f842449216",
   "metadata": {},
   "outputs": [
    {
     "data": {
      "text/html": [
       "<div>\n",
       "<style scoped>\n",
       "    .dataframe tbody tr th:only-of-type {\n",
       "        vertical-align: middle;\n",
       "    }\n",
       "\n",
       "    .dataframe tbody tr th {\n",
       "        vertical-align: top;\n",
       "    }\n",
       "\n",
       "    .dataframe thead th {\n",
       "        text-align: right;\n",
       "    }\n",
       "</style>\n",
       "<table border=\"1\" class=\"dataframe\">\n",
       "  <thead>\n",
       "    <tr style=\"text-align: right;\">\n",
       "      <th></th>\n",
       "      <th>InvoiceNo</th>\n",
       "      <th>StockCode</th>\n",
       "      <th>Description</th>\n",
       "      <th>Quantity</th>\n",
       "      <th>InvoiceDate</th>\n",
       "      <th>UnitPrice</th>\n",
       "      <th>CustomerID</th>\n",
       "      <th>Country</th>\n",
       "      <th>Quantityfr</th>\n",
       "      <th>Sales</th>\n",
       "      <th>month</th>\n",
       "    </tr>\n",
       "  </thead>\n",
       "  <tbody>\n",
       "    <tr>\n",
       "      <th>15017</th>\n",
       "      <td>537632</td>\n",
       "      <td>AMAZONFEE</td>\n",
       "      <td>AMAZON FEE</td>\n",
       "      <td>1</td>\n",
       "      <td>2010-12-07 15:08:00</td>\n",
       "      <td>13541.33</td>\n",
       "      <td>NaN</td>\n",
       "      <td>United Kingdom</td>\n",
       "      <td>-0.039216</td>\n",
       "      <td>13542.33</td>\n",
       "      <td>12</td>\n",
       "    </tr>\n",
       "    <tr>\n",
       "      <th>30364</th>\n",
       "      <td>538861</td>\n",
       "      <td>22444</td>\n",
       "      <td>NaN</td>\n",
       "      <td>460</td>\n",
       "      <td>2010-12-14 14:04:00</td>\n",
       "      <td>0.00</td>\n",
       "      <td>NaN</td>\n",
       "      <td>United Kingdom</td>\n",
       "      <td>2.065505</td>\n",
       "      <td>460.00</td>\n",
       "      <td>12</td>\n",
       "    </tr>\n",
       "    <tr>\n",
       "      <th>38464</th>\n",
       "      <td>539578</td>\n",
       "      <td>84991</td>\n",
       "      <td>60 TEATIME FAIRY CAKE CASES</td>\n",
       "      <td>480</td>\n",
       "      <td>2010-12-20 12:45:00</td>\n",
       "      <td>0.40</td>\n",
       "      <td>13027.0</td>\n",
       "      <td>United Kingdom</td>\n",
       "      <td>2.157214</td>\n",
       "      <td>480.40</td>\n",
       "      <td>12</td>\n",
       "    </tr>\n",
       "    <tr>\n",
       "      <th>38465</th>\n",
       "      <td>539578</td>\n",
       "      <td>21977</td>\n",
       "      <td>PACK OF 60 PINK PAISLEY CAKE CASES</td>\n",
       "      <td>480</td>\n",
       "      <td>2010-12-20 12:45:00</td>\n",
       "      <td>0.40</td>\n",
       "      <td>13027.0</td>\n",
       "      <td>United Kingdom</td>\n",
       "      <td>2.157214</td>\n",
       "      <td>480.40</td>\n",
       "      <td>12</td>\n",
       "    </tr>\n",
       "    <tr>\n",
       "      <th>38466</th>\n",
       "      <td>539578</td>\n",
       "      <td>21975</td>\n",
       "      <td>PACK OF 60 DINOSAUR CAKE CASES</td>\n",
       "      <td>480</td>\n",
       "      <td>2010-12-20 12:45:00</td>\n",
       "      <td>0.40</td>\n",
       "      <td>13027.0</td>\n",
       "      <td>United Kingdom</td>\n",
       "      <td>2.157214</td>\n",
       "      <td>480.40</td>\n",
       "      <td>12</td>\n",
       "    </tr>\n",
       "    <tr>\n",
       "      <th>...</th>\n",
       "      <td>...</td>\n",
       "      <td>...</td>\n",
       "      <td>...</td>\n",
       "      <td>...</td>\n",
       "      <td>...</td>\n",
       "      <td>...</td>\n",
       "      <td>...</td>\n",
       "      <td>...</td>\n",
       "      <td>...</td>\n",
       "      <td>...</td>\n",
       "      <td>...</td>\n",
       "    </tr>\n",
       "    <tr>\n",
       "      <th>438920</th>\n",
       "      <td>574341</td>\n",
       "      <td>22304</td>\n",
       "      <td>COFFEE MUG BLUE PAISLEY DESIGN</td>\n",
       "      <td>432</td>\n",
       "      <td>2011-11-04 10:09:00</td>\n",
       "      <td>1.12</td>\n",
       "      <td>18102.0</td>\n",
       "      <td>United Kingdom</td>\n",
       "      <td>1.937113</td>\n",
       "      <td>433.12</td>\n",
       "      <td>11</td>\n",
       "    </tr>\n",
       "    <tr>\n",
       "      <th>445766</th>\n",
       "      <td>574860</td>\n",
       "      <td>22714</td>\n",
       "      <td>CARD BIRTHDAY COWBOY</td>\n",
       "      <td>500</td>\n",
       "      <td>2011-11-07 12:10:00</td>\n",
       "      <td>0.36</td>\n",
       "      <td>17857.0</td>\n",
       "      <td>United Kingdom</td>\n",
       "      <td>2.248923</td>\n",
       "      <td>500.36</td>\n",
       "      <td>11</td>\n",
       "    </tr>\n",
       "    <tr>\n",
       "      <th>451852</th>\n",
       "      <td>575296</td>\n",
       "      <td>21108</td>\n",
       "      <td>FAIRY CAKE FLANNEL ASSORTED COLOUR</td>\n",
       "      <td>540</td>\n",
       "      <td>2011-11-09 12:25:00</td>\n",
       "      <td>0.79</td>\n",
       "      <td>16041.0</td>\n",
       "      <td>United Kingdom</td>\n",
       "      <td>2.432341</td>\n",
       "      <td>540.79</td>\n",
       "      <td>11</td>\n",
       "    </tr>\n",
       "    <tr>\n",
       "      <th>468046</th>\n",
       "      <td>576389</td>\n",
       "      <td>M</td>\n",
       "      <td>Manual</td>\n",
       "      <td>1</td>\n",
       "      <td>2011-11-15 10:05:00</td>\n",
       "      <td>850.50</td>\n",
       "      <td>12748.0</td>\n",
       "      <td>United Kingdom</td>\n",
       "      <td>-0.039216</td>\n",
       "      <td>851.50</td>\n",
       "      <td>11</td>\n",
       "    </tr>\n",
       "    <tr>\n",
       "      <th>488799</th>\n",
       "      <td>577852</td>\n",
       "      <td>79321</td>\n",
       "      <td>CHILLI LIGHTS</td>\n",
       "      <td>480</td>\n",
       "      <td>2011-11-22 11:08:00</td>\n",
       "      <td>4.65</td>\n",
       "      <td>16532.0</td>\n",
       "      <td>United Kingdom</td>\n",
       "      <td>2.157214</td>\n",
       "      <td>484.65</td>\n",
       "      <td>11</td>\n",
       "    </tr>\n",
       "  </tbody>\n",
       "</table>\n",
       "<p>151 rows × 11 columns</p>\n",
       "</div>"
      ],
      "text/plain": [
       "       InvoiceNo  StockCode                         Description  Quantity  \\\n",
       "15017     537632  AMAZONFEE                          AMAZON FEE         1   \n",
       "30364     538861      22444                                 NaN       460   \n",
       "38464     539578      84991         60 TEATIME FAIRY CAKE CASES       480   \n",
       "38465     539578      21977  PACK OF 60 PINK PAISLEY CAKE CASES       480   \n",
       "38466     539578      21975      PACK OF 60 DINOSAUR CAKE CASES       480   \n",
       "...          ...        ...                                 ...       ...   \n",
       "438920    574341      22304      COFFEE MUG BLUE PAISLEY DESIGN       432   \n",
       "445766    574860      22714                CARD BIRTHDAY COWBOY       500   \n",
       "451852    575296      21108  FAIRY CAKE FLANNEL ASSORTED COLOUR       540   \n",
       "468046    576389          M                              Manual         1   \n",
       "488799    577852      79321                       CHILLI LIGHTS       480   \n",
       "\n",
       "               InvoiceDate  UnitPrice  CustomerID         Country  Quantityfr  \\\n",
       "15017  2010-12-07 15:08:00   13541.33         NaN  United Kingdom   -0.039216   \n",
       "30364  2010-12-14 14:04:00       0.00         NaN  United Kingdom    2.065505   \n",
       "38464  2010-12-20 12:45:00       0.40     13027.0  United Kingdom    2.157214   \n",
       "38465  2010-12-20 12:45:00       0.40     13027.0  United Kingdom    2.157214   \n",
       "38466  2010-12-20 12:45:00       0.40     13027.0  United Kingdom    2.157214   \n",
       "...                    ...        ...         ...             ...         ...   \n",
       "438920 2011-11-04 10:09:00       1.12     18102.0  United Kingdom    1.937113   \n",
       "445766 2011-11-07 12:10:00       0.36     17857.0  United Kingdom    2.248923   \n",
       "451852 2011-11-09 12:25:00       0.79     16041.0  United Kingdom    2.432341   \n",
       "468046 2011-11-15 10:05:00     850.50     12748.0  United Kingdom   -0.039216   \n",
       "488799 2011-11-22 11:08:00       4.65     16532.0  United Kingdom    2.157214   \n",
       "\n",
       "           Sales  month  \n",
       "15017   13542.33     12  \n",
       "30364     460.00     12  \n",
       "38464     480.40     12  \n",
       "38465     480.40     12  \n",
       "38466     480.40     12  \n",
       "...          ...    ...  \n",
       "438920    433.12     11  \n",
       "445766    500.36     11  \n",
       "451852    540.79     11  \n",
       "468046    851.50     11  \n",
       "488799    484.65     11  \n",
       "\n",
       "[151 rows x 11 columns]"
      ]
     },
     "execution_count": 145,
     "metadata": {},
     "output_type": "execute_result"
    }
   ],
   "source": [
    "purch[purch['InvoiceNo'].isin(ind)]"
   ]
  },
  {
   "cell_type": "code",
   "execution_count": 146,
   "id": "a7437b64-dd20-4e1f-bfc3-c9dd80efc38c",
   "metadata": {},
   "outputs": [
    {
     "data": {
      "text/plain": [
       "100"
      ]
     },
     "execution_count": 146,
     "metadata": {},
     "output_type": "execute_result"
    }
   ],
   "source": [
    "len(ind)"
   ]
  },
  {
   "cell_type": "code",
   "execution_count": null,
   "id": "b4707361-4232-4dec-bb91-dcb0eb8a606e",
   "metadata": {},
   "outputs": [],
   "source": [
    "\n",
    "average_order_value = purch.groupby('InvoiceNo')['Sales'].sum().mean()\n",
    "\n",
    "aov_by_country = df_cleaned.groupby('Country')['TotalSales'].mean().sort_values(ascending=False).head(10)\n",
    "\n",
    "# Display the average order value and its variation across the top 10 countries\n",
    "average_order_value, aov_by_country\n"
   ]
  },
  {
   "cell_type": "code",
   "execution_count": null,
   "id": "e2602d61-e49a-4794-9005-ecfa057b9492",
   "metadata": {},
   "outputs": [],
   "source": []
  }
 ],
 "metadata": {
  "kernelspec": {
   "display_name": "Python 3 (ipykernel)",
   "language": "python",
   "name": "python3"
  },
  "language_info": {
   "codemirror_mode": {
    "name": "ipython",
    "version": 3
   },
   "file_extension": ".py",
   "mimetype": "text/x-python",
   "name": "python",
   "nbconvert_exporter": "python",
   "pygments_lexer": "ipython3",
   "version": "3.10.12"
  }
 },
 "nbformat": 4,
 "nbformat_minor": 5
}
